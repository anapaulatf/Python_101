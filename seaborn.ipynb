{
 "metadata": {
  "language_info": {
   "codemirror_mode": {
    "name": "ipython",
    "version": 3
   },
   "file_extension": ".py",
   "mimetype": "text/x-python",
   "name": "python",
   "nbconvert_exporter": "python",
   "pygments_lexer": "ipython3",
   "version": "3.9.1-final"
  },
  "orig_nbformat": 2,
  "kernelspec": {
   "name": "python3",
   "display_name": "Python 3.9.1 64-bit",
   "metadata": {
    "interpreter": {
     "hash": "1e1acc888eb08fe0e6c24eb823c37130db3510eb79c16f7d60b64bc6d845a62e"
    }
   }
  }
 },
 "nbformat": 4,
 "nbformat_minor": 2,
 "cells": [
  {
   "source": [
    "# Seaborn \n",
    "* trabalha bem com pandas\n",
    "* com base no matplotlib\n",
    "\n"
   ],
   "cell_type": "markdown",
   "metadata": {}
  },
  {
   "cell_type": "code",
   "execution_count": null,
   "metadata": {},
   "outputs": [],
   "source": [
    "import seaborn as sns\n",
    "import matplotlib.pyplot as plt\n",
    "\n",
    "# exemplo de dados\n",
    "height = [62,64,69,75,66,68,65,71,76,73]\n",
    "weight = [120,136,148,175,137,165,154,172,200,187]\n",
    "\n",
    "# problema simples: pessoas mais altas pesam mais?\n",
    "sns.scatterplot(x=height, y=weight)\n",
    "plt.show()\n",
    "\n",
    "# Vamos identificar o sexo dos indivíduos\n",
    "gender = [\"F\",\"F\",\"F\",\"F\",\"M\",\"M\",\"M\",\"M\",\"M\",\"M\"]\n",
    "sns.countplot(x=gender)\n",
    "plt.show()\n"
   ]
  }
 ]
}